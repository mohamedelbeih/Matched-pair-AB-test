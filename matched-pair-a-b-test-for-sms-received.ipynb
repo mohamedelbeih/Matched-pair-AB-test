{
 "cells": [
  {
   "cell_type": "code",
   "execution_count": 1,
   "id": "bfe1d207",
   "metadata": {
    "_cell_guid": "b1076dfc-b9ad-4769-8c92-a6c4dae69d19",
    "_uuid": "8f2839f25d086af736a60e9eeb907d3b93b6e0e5",
    "execution": {
     "iopub.execute_input": "2021-09-05T02:46:41.619780Z",
     "iopub.status.busy": "2021-09-05T02:46:41.619232Z",
     "iopub.status.idle": "2021-09-05T02:46:42.551739Z",
     "shell.execute_reply": "2021-09-05T02:46:42.550641Z",
     "shell.execute_reply.started": "2021-09-05T02:43:49.979669Z"
    },
    "papermill": {
     "duration": 0.954855,
     "end_time": "2021-09-05T02:46:42.551972",
     "exception": false,
     "start_time": "2021-09-05T02:46:41.597117",
     "status": "completed"
    },
    "tags": []
   },
   "outputs": [],
   "source": [
    "import numpy as np\n",
    "import pandas as pd\n",
    "import matplotlib.pyplot as plt\n",
    "import seaborn as sns\n",
    "sns.set()"
   ]
  },
  {
   "cell_type": "code",
   "execution_count": 2,
   "id": "4b394a56",
   "metadata": {
    "execution": {
     "iopub.execute_input": "2021-09-05T02:46:42.589972Z",
     "iopub.status.busy": "2021-09-05T02:46:42.588120Z",
     "iopub.status.idle": "2021-09-05T02:46:42.963858Z",
     "shell.execute_reply": "2021-09-05T02:46:42.963371Z",
     "shell.execute_reply.started": "2021-09-05T02:43:50.417276Z"
    },
    "papermill": {
     "duration": 0.392432,
     "end_time": "2021-09-05T02:46:42.963990",
     "exception": false,
     "start_time": "2021-09-05T02:46:42.571558",
     "status": "completed"
    },
    "tags": []
   },
   "outputs": [
    {
     "data": {
      "text/html": [
       "<div>\n",
       "<style scoped>\n",
       "    .dataframe tbody tr th:only-of-type {\n",
       "        vertical-align: middle;\n",
       "    }\n",
       "\n",
       "    .dataframe tbody tr th {\n",
       "        vertical-align: top;\n",
       "    }\n",
       "\n",
       "    .dataframe thead th {\n",
       "        text-align: right;\n",
       "    }\n",
       "</style>\n",
       "<table border=\"1\" class=\"dataframe\">\n",
       "  <thead>\n",
       "    <tr style=\"text-align: right;\">\n",
       "      <th></th>\n",
       "      <th>PatientId</th>\n",
       "      <th>AppointmentID</th>\n",
       "      <th>Gender</th>\n",
       "      <th>ScheduledDay</th>\n",
       "      <th>AppointmentDay</th>\n",
       "      <th>Age</th>\n",
       "      <th>Neighbourhood</th>\n",
       "      <th>Scholarship</th>\n",
       "      <th>Hipertension</th>\n",
       "      <th>Diabetes</th>\n",
       "      <th>Alcoholism</th>\n",
       "      <th>Handcap</th>\n",
       "      <th>SMS_received</th>\n",
       "      <th>No-show</th>\n",
       "    </tr>\n",
       "  </thead>\n",
       "  <tbody>\n",
       "    <tr>\n",
       "      <th>0</th>\n",
       "      <td>2.987250e+13</td>\n",
       "      <td>5642903</td>\n",
       "      <td>F</td>\n",
       "      <td>2016-04-29T18:38:08Z</td>\n",
       "      <td>2016-04-29T00:00:00Z</td>\n",
       "      <td>62</td>\n",
       "      <td>JARDIM DA PENHA</td>\n",
       "      <td>0</td>\n",
       "      <td>1</td>\n",
       "      <td>0</td>\n",
       "      <td>0</td>\n",
       "      <td>0</td>\n",
       "      <td>0</td>\n",
       "      <td>No</td>\n",
       "    </tr>\n",
       "    <tr>\n",
       "      <th>1</th>\n",
       "      <td>5.589978e+14</td>\n",
       "      <td>5642503</td>\n",
       "      <td>M</td>\n",
       "      <td>2016-04-29T16:08:27Z</td>\n",
       "      <td>2016-04-29T00:00:00Z</td>\n",
       "      <td>56</td>\n",
       "      <td>JARDIM DA PENHA</td>\n",
       "      <td>0</td>\n",
       "      <td>0</td>\n",
       "      <td>0</td>\n",
       "      <td>0</td>\n",
       "      <td>0</td>\n",
       "      <td>0</td>\n",
       "      <td>No</td>\n",
       "    </tr>\n",
       "    <tr>\n",
       "      <th>2</th>\n",
       "      <td>4.262962e+12</td>\n",
       "      <td>5642549</td>\n",
       "      <td>F</td>\n",
       "      <td>2016-04-29T16:19:04Z</td>\n",
       "      <td>2016-04-29T00:00:00Z</td>\n",
       "      <td>62</td>\n",
       "      <td>MATA DA PRAIA</td>\n",
       "      <td>0</td>\n",
       "      <td>0</td>\n",
       "      <td>0</td>\n",
       "      <td>0</td>\n",
       "      <td>0</td>\n",
       "      <td>0</td>\n",
       "      <td>No</td>\n",
       "    </tr>\n",
       "    <tr>\n",
       "      <th>3</th>\n",
       "      <td>8.679512e+11</td>\n",
       "      <td>5642828</td>\n",
       "      <td>F</td>\n",
       "      <td>2016-04-29T17:29:31Z</td>\n",
       "      <td>2016-04-29T00:00:00Z</td>\n",
       "      <td>8</td>\n",
       "      <td>PONTAL DE CAMBURI</td>\n",
       "      <td>0</td>\n",
       "      <td>0</td>\n",
       "      <td>0</td>\n",
       "      <td>0</td>\n",
       "      <td>0</td>\n",
       "      <td>0</td>\n",
       "      <td>No</td>\n",
       "    </tr>\n",
       "    <tr>\n",
       "      <th>4</th>\n",
       "      <td>8.841186e+12</td>\n",
       "      <td>5642494</td>\n",
       "      <td>F</td>\n",
       "      <td>2016-04-29T16:07:23Z</td>\n",
       "      <td>2016-04-29T00:00:00Z</td>\n",
       "      <td>56</td>\n",
       "      <td>JARDIM DA PENHA</td>\n",
       "      <td>0</td>\n",
       "      <td>1</td>\n",
       "      <td>1</td>\n",
       "      <td>0</td>\n",
       "      <td>0</td>\n",
       "      <td>0</td>\n",
       "      <td>No</td>\n",
       "    </tr>\n",
       "  </tbody>\n",
       "</table>\n",
       "</div>"
      ],
      "text/plain": [
       "      PatientId  AppointmentID Gender          ScheduledDay  \\\n",
       "0  2.987250e+13        5642903      F  2016-04-29T18:38:08Z   \n",
       "1  5.589978e+14        5642503      M  2016-04-29T16:08:27Z   \n",
       "2  4.262962e+12        5642549      F  2016-04-29T16:19:04Z   \n",
       "3  8.679512e+11        5642828      F  2016-04-29T17:29:31Z   \n",
       "4  8.841186e+12        5642494      F  2016-04-29T16:07:23Z   \n",
       "\n",
       "         AppointmentDay  Age      Neighbourhood  Scholarship  Hipertension  \\\n",
       "0  2016-04-29T00:00:00Z   62    JARDIM DA PENHA            0             1   \n",
       "1  2016-04-29T00:00:00Z   56    JARDIM DA PENHA            0             0   \n",
       "2  2016-04-29T00:00:00Z   62      MATA DA PRAIA            0             0   \n",
       "3  2016-04-29T00:00:00Z    8  PONTAL DE CAMBURI            0             0   \n",
       "4  2016-04-29T00:00:00Z   56    JARDIM DA PENHA            0             1   \n",
       "\n",
       "   Diabetes  Alcoholism  Handcap  SMS_received No-show  \n",
       "0         0           0        0             0      No  \n",
       "1         0           0        0             0      No  \n",
       "2         0           0        0             0      No  \n",
       "3         0           0        0             0      No  \n",
       "4         1           0        0             0      No  "
      ]
     },
     "execution_count": 2,
     "metadata": {},
     "output_type": "execute_result"
    }
   ],
   "source": [
    "data = pd.read_csv('../input/noshowappointments/KaggleV2-May-2016.csv')\n",
    "data.head(5)"
   ]
  },
  {
   "cell_type": "code",
   "execution_count": 3,
   "id": "6df015ba",
   "metadata": {
    "execution": {
     "iopub.execute_input": "2021-09-05T02:46:42.994416Z",
     "iopub.status.busy": "2021-09-05T02:46:42.993493Z",
     "iopub.status.idle": "2021-09-05T02:46:43.118253Z",
     "shell.execute_reply": "2021-09-05T02:46:43.118679Z",
     "shell.execute_reply.started": "2021-09-05T02:43:50.727212Z"
    },
    "papermill": {
     "duration": 0.141927,
     "end_time": "2021-09-05T02:46:43.118860",
     "exception": false,
     "start_time": "2021-09-05T02:46:42.976933",
     "status": "completed"
    },
    "tags": []
   },
   "outputs": [
    {
     "data": {
      "text/plain": [
       "PatientId          62299\n",
       "AppointmentID     110527\n",
       "Gender                 2\n",
       "ScheduledDay      103549\n",
       "AppointmentDay        27\n",
       "Age                  104\n",
       "Neighbourhood         81\n",
       "Scholarship            2\n",
       "Hipertension           2\n",
       "Diabetes               2\n",
       "Alcoholism             2\n",
       "Handcap                5\n",
       "SMS_received           2\n",
       "No-show                2\n",
       "dtype: int64"
      ]
     },
     "execution_count": 3,
     "metadata": {},
     "output_type": "execute_result"
    }
   ],
   "source": [
    "data.nunique()"
   ]
  },
  {
   "cell_type": "code",
   "execution_count": 4,
   "id": "2589a429",
   "metadata": {
    "execution": {
     "iopub.execute_input": "2021-09-05T02:46:43.173469Z",
     "iopub.status.busy": "2021-09-05T02:46:43.151787Z",
     "iopub.status.idle": "2021-09-05T02:46:43.192692Z",
     "shell.execute_reply": "2021-09-05T02:46:43.193331Z",
     "shell.execute_reply.started": "2021-09-05T02:43:50.897902Z"
    },
    "papermill": {
     "duration": 0.059942,
     "end_time": "2021-09-05T02:46:43.193558",
     "exception": false,
     "start_time": "2021-09-05T02:46:43.133616",
     "status": "completed"
    },
    "tags": []
   },
   "outputs": [
    {
     "name": "stdout",
     "output_type": "stream",
     "text": [
      "<class 'pandas.core.frame.DataFrame'>\n",
      "RangeIndex: 110527 entries, 0 to 110526\n",
      "Data columns (total 14 columns):\n",
      " #   Column          Non-Null Count   Dtype  \n",
      "---  ------          --------------   -----  \n",
      " 0   PatientId       110527 non-null  float64\n",
      " 1   AppointmentID   110527 non-null  int64  \n",
      " 2   Gender          110527 non-null  object \n",
      " 3   ScheduledDay    110527 non-null  object \n",
      " 4   AppointmentDay  110527 non-null  object \n",
      " 5   Age             110527 non-null  int64  \n",
      " 6   Neighbourhood   110527 non-null  object \n",
      " 7   Scholarship     110527 non-null  int64  \n",
      " 8   Hipertension    110527 non-null  int64  \n",
      " 9   Diabetes        110527 non-null  int64  \n",
      " 10  Alcoholism      110527 non-null  int64  \n",
      " 11  Handcap         110527 non-null  int64  \n",
      " 12  SMS_received    110527 non-null  int64  \n",
      " 13  No-show         110527 non-null  object \n",
      "dtypes: float64(1), int64(8), object(5)\n",
      "memory usage: 11.8+ MB\n"
     ]
    }
   ],
   "source": [
    "data.info()"
   ]
  },
  {
   "cell_type": "code",
   "execution_count": 5,
   "id": "c2bcc913",
   "metadata": {
    "execution": {
     "iopub.execute_input": "2021-09-05T02:46:43.226796Z",
     "iopub.status.busy": "2021-09-05T02:46:43.225979Z",
     "iopub.status.idle": "2021-09-05T02:46:43.393967Z",
     "shell.execute_reply": "2021-09-05T02:46:43.393502Z",
     "shell.execute_reply.started": "2021-09-05T02:43:50.975058Z"
    },
    "papermill": {
     "duration": 0.185965,
     "end_time": "2021-09-05T02:46:43.394107",
     "exception": false,
     "start_time": "2021-09-05T02:46:43.208142",
     "status": "completed"
    },
    "tags": []
   },
   "outputs": [
    {
     "data": {
      "text/plain": [
       "PatientId          62190\n",
       "AppointmentID     110327\n",
       "Gender                 2\n",
       "ScheduledDay      103368\n",
       "AppointmentDay        27\n",
       "Age                  103\n",
       "Neighbourhood         81\n",
       "Scholarship            2\n",
       "Hipertension           2\n",
       "Diabetes               2\n",
       "Alcoholism             2\n",
       "Handcap                2\n",
       "SMS_received           2\n",
       "No-show                2\n",
       "dtype: int64"
      ]
     },
     "execution_count": 5,
     "metadata": {},
     "output_type": "execute_result"
    }
   ],
   "source": [
    "# fixing and cleaning data\n",
    "data = data[data['Handcap'] <= 1]\n",
    "data = data[data['Age'] >= 0]\n",
    "data['No-show'] = data['No-show'].map({'Yes':1 , 'No':0})\n",
    "data.nunique()"
   ]
  },
  {
   "cell_type": "code",
   "execution_count": 6,
   "id": "42c87e0a",
   "metadata": {
    "execution": {
     "iopub.execute_input": "2021-09-05T02:46:43.438454Z",
     "iopub.status.busy": "2021-09-05T02:46:43.437531Z",
     "iopub.status.idle": "2021-09-05T02:46:43.441360Z",
     "shell.execute_reply": "2021-09-05T02:46:43.441803Z",
     "shell.execute_reply.started": "2021-09-05T02:43:51.177249Z"
    },
    "papermill": {
     "duration": 0.03371,
     "end_time": "2021-09-05T02:46:43.441972",
     "exception": false,
     "start_time": "2021-09-05T02:46:43.408262",
     "status": "completed"
    },
    "tags": []
   },
   "outputs": [
    {
     "data": {
      "text/html": [
       "<div>\n",
       "<style scoped>\n",
       "    .dataframe tbody tr th:only-of-type {\n",
       "        vertical-align: middle;\n",
       "    }\n",
       "\n",
       "    .dataframe tbody tr th {\n",
       "        vertical-align: top;\n",
       "    }\n",
       "\n",
       "    .dataframe thead th {\n",
       "        text-align: right;\n",
       "    }\n",
       "</style>\n",
       "<table border=\"1\" class=\"dataframe\">\n",
       "  <thead>\n",
       "    <tr style=\"text-align: right;\">\n",
       "      <th></th>\n",
       "      <th>PatientId</th>\n",
       "      <th>AppointmentID</th>\n",
       "      <th>Gender</th>\n",
       "      <th>ScheduledDay</th>\n",
       "      <th>AppointmentDay</th>\n",
       "      <th>Age</th>\n",
       "      <th>Neighbourhood</th>\n",
       "      <th>Scholarship</th>\n",
       "      <th>Hipertension</th>\n",
       "      <th>Diabetes</th>\n",
       "      <th>Alcoholism</th>\n",
       "      <th>Handcap</th>\n",
       "      <th>SMS_received</th>\n",
       "      <th>No-show</th>\n",
       "    </tr>\n",
       "  </thead>\n",
       "  <tbody>\n",
       "    <tr>\n",
       "      <th>0</th>\n",
       "      <td>2.987250e+13</td>\n",
       "      <td>5642903</td>\n",
       "      <td>F</td>\n",
       "      <td>2016-04-29T18:38:08Z</td>\n",
       "      <td>2016-04-29T00:00:00Z</td>\n",
       "      <td>62</td>\n",
       "      <td>JARDIM DA PENHA</td>\n",
       "      <td>0</td>\n",
       "      <td>1</td>\n",
       "      <td>0</td>\n",
       "      <td>0</td>\n",
       "      <td>0</td>\n",
       "      <td>0</td>\n",
       "      <td>0</td>\n",
       "    </tr>\n",
       "    <tr>\n",
       "      <th>1</th>\n",
       "      <td>5.589978e+14</td>\n",
       "      <td>5642503</td>\n",
       "      <td>M</td>\n",
       "      <td>2016-04-29T16:08:27Z</td>\n",
       "      <td>2016-04-29T00:00:00Z</td>\n",
       "      <td>56</td>\n",
       "      <td>JARDIM DA PENHA</td>\n",
       "      <td>0</td>\n",
       "      <td>0</td>\n",
       "      <td>0</td>\n",
       "      <td>0</td>\n",
       "      <td>0</td>\n",
       "      <td>0</td>\n",
       "      <td>0</td>\n",
       "    </tr>\n",
       "    <tr>\n",
       "      <th>2</th>\n",
       "      <td>4.262962e+12</td>\n",
       "      <td>5642549</td>\n",
       "      <td>F</td>\n",
       "      <td>2016-04-29T16:19:04Z</td>\n",
       "      <td>2016-04-29T00:00:00Z</td>\n",
       "      <td>62</td>\n",
       "      <td>MATA DA PRAIA</td>\n",
       "      <td>0</td>\n",
       "      <td>0</td>\n",
       "      <td>0</td>\n",
       "      <td>0</td>\n",
       "      <td>0</td>\n",
       "      <td>0</td>\n",
       "      <td>0</td>\n",
       "    </tr>\n",
       "    <tr>\n",
       "      <th>3</th>\n",
       "      <td>8.679512e+11</td>\n",
       "      <td>5642828</td>\n",
       "      <td>F</td>\n",
       "      <td>2016-04-29T17:29:31Z</td>\n",
       "      <td>2016-04-29T00:00:00Z</td>\n",
       "      <td>8</td>\n",
       "      <td>PONTAL DE CAMBURI</td>\n",
       "      <td>0</td>\n",
       "      <td>0</td>\n",
       "      <td>0</td>\n",
       "      <td>0</td>\n",
       "      <td>0</td>\n",
       "      <td>0</td>\n",
       "      <td>0</td>\n",
       "    </tr>\n",
       "    <tr>\n",
       "      <th>4</th>\n",
       "      <td>8.841186e+12</td>\n",
       "      <td>5642494</td>\n",
       "      <td>F</td>\n",
       "      <td>2016-04-29T16:07:23Z</td>\n",
       "      <td>2016-04-29T00:00:00Z</td>\n",
       "      <td>56</td>\n",
       "      <td>JARDIM DA PENHA</td>\n",
       "      <td>0</td>\n",
       "      <td>1</td>\n",
       "      <td>1</td>\n",
       "      <td>0</td>\n",
       "      <td>0</td>\n",
       "      <td>0</td>\n",
       "      <td>0</td>\n",
       "    </tr>\n",
       "  </tbody>\n",
       "</table>\n",
       "</div>"
      ],
      "text/plain": [
       "      PatientId  AppointmentID Gender          ScheduledDay  \\\n",
       "0  2.987250e+13        5642903      F  2016-04-29T18:38:08Z   \n",
       "1  5.589978e+14        5642503      M  2016-04-29T16:08:27Z   \n",
       "2  4.262962e+12        5642549      F  2016-04-29T16:19:04Z   \n",
       "3  8.679512e+11        5642828      F  2016-04-29T17:29:31Z   \n",
       "4  8.841186e+12        5642494      F  2016-04-29T16:07:23Z   \n",
       "\n",
       "         AppointmentDay  Age      Neighbourhood  Scholarship  Hipertension  \\\n",
       "0  2016-04-29T00:00:00Z   62    JARDIM DA PENHA            0             1   \n",
       "1  2016-04-29T00:00:00Z   56    JARDIM DA PENHA            0             0   \n",
       "2  2016-04-29T00:00:00Z   62      MATA DA PRAIA            0             0   \n",
       "3  2016-04-29T00:00:00Z    8  PONTAL DE CAMBURI            0             0   \n",
       "4  2016-04-29T00:00:00Z   56    JARDIM DA PENHA            0             1   \n",
       "\n",
       "   Diabetes  Alcoholism  Handcap  SMS_received  No-show  \n",
       "0         0           0        0             0        0  \n",
       "1         0           0        0             0        0  \n",
       "2         0           0        0             0        0  \n",
       "3         0           0        0             0        0  \n",
       "4         1           0        0             0        0  "
      ]
     },
     "execution_count": 6,
     "metadata": {},
     "output_type": "execute_result"
    }
   ],
   "source": [
    "data.head()"
   ]
  },
  {
   "cell_type": "markdown",
   "id": "b77c63f7",
   "metadata": {
    "papermill": {
     "duration": 0.014192,
     "end_time": "2021-09-05T02:46:43.470537",
     "exception": false,
     "start_time": "2021-09-05T02:46:43.456345",
     "status": "completed"
    },
    "tags": []
   },
   "source": [
    "### Creating a matched pair design A\\B test"
   ]
  },
  {
   "cell_type": "code",
   "execution_count": 7,
   "id": "b4caa59b",
   "metadata": {
    "execution": {
     "iopub.execute_input": "2021-09-05T02:46:43.504815Z",
     "iopub.status.busy": "2021-09-05T02:46:43.504089Z",
     "iopub.status.idle": "2021-09-05T02:46:43.552469Z",
     "shell.execute_reply": "2021-09-05T02:46:43.552949Z",
     "shell.execute_reply.started": "2021-09-05T02:43:51.198836Z"
    },
    "papermill": {
     "duration": 0.068736,
     "end_time": "2021-09-05T02:46:43.553115",
     "exception": false,
     "start_time": "2021-09-05T02:46:43.484379",
     "status": "completed"
    },
    "tags": []
   },
   "outputs": [
    {
     "name": "stdout",
     "output_type": "stream",
     "text": [
      "(846, 14)\n",
      "(986, 14)\n"
     ]
    }
   ],
   "source": [
    "# supposing that receiving a SMS will be the treatment which we will apply to the experimental group\n",
    "# spliting data into 2 groups ( SMS receciveed & NO_SMS_received ) \n",
    "# then removing duplicates ( for 6 control variables ) for each group\n",
    "# the target varible here will be to decrease the NO-show = 1 .\n",
    "data_SMS_received = data[data['SMS_received']==1].drop_duplicates(subset=['Neighbourhood','Scholarship','Hipertension','Diabetes','Alcoholism','Handcap'] )\n",
    "data_No_SMS_received = data[data['SMS_received']==0].drop_duplicates(subset=['Neighbourhood','Scholarship','Hipertension','Diabetes','Alcoholism','Handcap'] )\n",
    "print(data_SMS_received.shape)\n",
    "print(data_No_SMS_received.shape)"
   ]
  },
  {
   "cell_type": "code",
   "execution_count": 8,
   "id": "1c1b34b8",
   "metadata": {
    "execution": {
     "iopub.execute_input": "2021-09-05T02:46:43.588626Z",
     "iopub.status.busy": "2021-09-05T02:46:43.588007Z",
     "iopub.status.idle": "2021-09-05T02:46:43.594968Z",
     "shell.execute_reply": "2021-09-05T02:46:43.595426Z",
     "shell.execute_reply.started": "2021-09-05T02:43:51.277745Z"
    },
    "papermill": {
     "duration": 0.02813,
     "end_time": "2021-09-05T02:46:43.595589",
     "exception": false,
     "start_time": "2021-09-05T02:46:43.567459",
     "status": "completed"
    },
    "tags": []
   },
   "outputs": [
    {
     "name": "stdout",
     "output_type": "stream",
     "text": [
      "(846, 14)\n",
      "(986, 14)\n"
     ]
    }
   ],
   "source": [
    "# making sure that we have only one observation for each patientid in each group\n",
    "data_SMS_received = data_SMS_received.drop_duplicates(subset=['PatientId'])\n",
    "data_No_SMS_received = data_No_SMS_received.drop_duplicates(subset=['PatientId'])\n",
    "print(data_SMS_received.shape)\n",
    "print(data_No_SMS_received.shape)"
   ]
  },
  {
   "cell_type": "code",
   "execution_count": 9,
   "id": "e441f542",
   "metadata": {
    "execution": {
     "iopub.execute_input": "2021-09-05T02:46:43.627364Z",
     "iopub.status.busy": "2021-09-05T02:46:43.626708Z",
     "iopub.status.idle": "2021-09-05T02:46:43.637120Z",
     "shell.execute_reply": "2021-09-05T02:46:43.637694Z",
     "shell.execute_reply.started": "2021-09-05T02:43:51.292989Z"
    },
    "papermill": {
     "duration": 0.027885,
     "end_time": "2021-09-05T02:46:43.637869",
     "exception": false,
     "start_time": "2021-09-05T02:46:43.609984",
     "status": "completed"
    },
    "tags": []
   },
   "outputs": [
    {
     "name": "stdout",
     "output_type": "stream",
     "text": [
      "(1680, 14)\n"
     ]
    }
   ],
   "source": [
    "# concatenating the 2 groups\n",
    "data_ = pd.concat([data_SMS_received,data_No_SMS_received])\n",
    "data_ = data_.drop_duplicates(subset=['PatientId'])\n",
    "print(data_.shape)"
   ]
  },
  {
   "cell_type": "code",
   "execution_count": 10,
   "id": "413536bc",
   "metadata": {
    "execution": {
     "iopub.execute_input": "2021-09-05T02:46:43.670291Z",
     "iopub.status.busy": "2021-09-05T02:46:43.669622Z",
     "iopub.status.idle": "2021-09-05T02:46:43.680628Z",
     "shell.execute_reply": "2021-09-05T02:46:43.681409Z",
     "shell.execute_reply.started": "2021-09-05T02:43:51.311570Z"
    },
    "papermill": {
     "duration": 0.029104,
     "end_time": "2021-09-05T02:46:43.681693",
     "exception": false,
     "start_time": "2021-09-05T02:46:43.652589",
     "status": "completed"
    },
    "tags": []
   },
   "outputs": [
    {
     "name": "stdout",
     "output_type": "stream",
     "text": [
      "(628, 14)\n",
      "(628, 14)\n"
     ]
    }
   ],
   "source": [
    "# making matched pair groups ( for the 6 control variables )\n",
    "# 1 group received a SMS & the other did not \n",
    "data_ = data_[(data_.duplicated(subset=['Neighbourhood','Scholarship','Hipertension','Diabetes',\n",
    "                                        'Alcoholism','Handcap'],keep = False)) == True ]\n",
    "print(data_[data_['SMS_received'] == 0 ].shape)\n",
    "print(data_[data_['SMS_received'] == 1 ].shape)"
   ]
  },
  {
   "cell_type": "markdown",
   "id": "0c4d006d",
   "metadata": {
    "papermill": {
     "duration": 0.014437,
     "end_time": "2021-09-05T02:46:43.712643",
     "exception": false,
     "start_time": "2021-09-05T02:46:43.698206",
     "status": "completed"
    },
    "tags": []
   },
   "source": [
    "#### we will use bootstrapping technique , thus we will have imbalanced samples for making groups\n",
    "#### so we will use the percent of No-show for each groups as our target variable \n",
    "#### this percent is same like CTR ( click through rate ) for websites feature testing.  "
   ]
  },
  {
   "cell_type": "markdown",
   "id": "a250cbab",
   "metadata": {
    "papermill": {
     "duration": 0.014367,
     "end_time": "2021-09-05T02:46:43.741728",
     "exception": false,
     "start_time": "2021-09-05T02:46:43.727361",
     "status": "completed"
    },
    "tags": []
   },
   "source": [
    "### the null hypothesis :\n",
    "#### the No-show = 1 percent for patients who didn't receive a SMS >= the No-show = 1 percent for patients who did receive a SMS\n",
    "### the alternative hypothesis : \n",
    "#### the No-show = 1 percent for patients who didn't receive a SMS < the No-show = 1 percent for patients who did receive a SMS"
   ]
  },
  {
   "cell_type": "code",
   "execution_count": 11,
   "id": "9602aea9",
   "metadata": {
    "execution": {
     "iopub.execute_input": "2021-09-05T02:46:43.774432Z",
     "iopub.status.busy": "2021-09-05T02:46:43.773838Z",
     "iopub.status.idle": "2021-09-05T02:46:43.781017Z",
     "shell.execute_reply": "2021-09-05T02:46:43.781479Z",
     "shell.execute_reply.started": "2021-09-05T02:43:51.333286Z"
    },
    "papermill": {
     "duration": 0.024879,
     "end_time": "2021-09-05T02:46:43.781640",
     "exception": false,
     "start_time": "2021-09-05T02:46:43.756761",
     "status": "completed"
    },
    "tags": []
   },
   "outputs": [
    {
     "data": {
      "text/plain": [
       "0.16401273885350318"
      ]
     },
     "execution_count": 11,
     "metadata": {},
     "output_type": "execute_result"
    }
   ],
   "source": [
    "control_mean = data_[data_['SMS_received'] == 0 ]['No-show'].sum()/data_[data_['SMS_received'] == 0 ].shape[0]\n",
    "control_mean"
   ]
  },
  {
   "cell_type": "code",
   "execution_count": 12,
   "id": "7858d392",
   "metadata": {
    "execution": {
     "iopub.execute_input": "2021-09-05T02:46:43.815048Z",
     "iopub.status.busy": "2021-09-05T02:46:43.814478Z",
     "iopub.status.idle": "2021-09-05T02:46:43.821533Z",
     "shell.execute_reply": "2021-09-05T02:46:43.821981Z",
     "shell.execute_reply.started": "2021-09-05T02:43:51.347447Z"
    },
    "papermill": {
     "duration": 0.025242,
     "end_time": "2021-09-05T02:46:43.822138",
     "exception": false,
     "start_time": "2021-09-05T02:46:43.796896",
     "status": "completed"
    },
    "tags": []
   },
   "outputs": [
    {
     "data": {
      "text/plain": [
       "0.25636942675159236"
      ]
     },
     "execution_count": 12,
     "metadata": {},
     "output_type": "execute_result"
    }
   ],
   "source": [
    "experiment_mean = data_[data_['SMS_received'] == 1 ]['No-show'].sum()/data_[data_['SMS_received'] == 1 ].shape[0]\n",
    "experiment_mean"
   ]
  },
  {
   "cell_type": "code",
   "execution_count": 13,
   "id": "8355c1a0",
   "metadata": {
    "execution": {
     "iopub.execute_input": "2021-09-05T02:46:43.855644Z",
     "iopub.status.busy": "2021-09-05T02:46:43.855084Z",
     "iopub.status.idle": "2021-09-05T02:46:43.860353Z",
     "shell.execute_reply": "2021-09-05T02:46:43.859881Z",
     "shell.execute_reply.started": "2021-09-05T02:43:51.364943Z"
    },
    "papermill": {
     "duration": 0.022958,
     "end_time": "2021-09-05T02:46:43.860479",
     "exception": false,
     "start_time": "2021-09-05T02:46:43.837521",
     "status": "completed"
    },
    "tags": []
   },
   "outputs": [
    {
     "data": {
      "text/plain": [
       "-0.09235668789808918"
      ]
     },
     "execution_count": 13,
     "metadata": {},
     "output_type": "execute_result"
    }
   ],
   "source": [
    "obs_diff = control_mean-experiment_mean\n",
    "obs_diff"
   ]
  },
  {
   "cell_type": "code",
   "execution_count": 14,
   "id": "65d0f2f7",
   "metadata": {
    "execution": {
     "iopub.execute_input": "2021-09-05T02:46:43.897556Z",
     "iopub.status.busy": "2021-09-05T02:46:43.896938Z",
     "iopub.status.idle": "2021-09-05T02:47:14.453402Z",
     "shell.execute_reply": "2021-09-05T02:47:14.453859Z",
     "shell.execute_reply.started": "2021-09-05T02:43:51.381511Z"
    },
    "papermill": {
     "duration": 30.578128,
     "end_time": "2021-09-05T02:47:14.454038",
     "exception": false,
     "start_time": "2021-09-05T02:46:43.875910",
     "status": "completed"
    },
    "tags": []
   },
   "outputs": [],
   "source": [
    "diffs = []\n",
    "for _ in range(10000):\n",
    "    sample = data_.sample(data_.shape[0],replace=True)\n",
    "    control_mean = sample[sample['SMS_received'] == 0 ]['No-show'].sum()/sample[sample['SMS_received'] == 0 ].shape[0]\n",
    "    experiment_mean = sample[sample['SMS_received'] == 1 ]['No-show'].sum()/sample[sample['SMS_received'] == 1 ].shape[0]\n",
    "    diffs.append(control_mean-experiment_mean)"
   ]
  },
  {
   "cell_type": "code",
   "execution_count": 15,
   "id": "c6701e67",
   "metadata": {
    "execution": {
     "iopub.execute_input": "2021-09-05T02:47:14.489038Z",
     "iopub.status.busy": "2021-09-05T02:47:14.488506Z",
     "iopub.status.idle": "2021-09-05T02:47:14.723038Z",
     "shell.execute_reply": "2021-09-05T02:47:14.722490Z",
     "shell.execute_reply.started": "2021-09-05T02:44:25.007403Z"
    },
    "papermill": {
     "duration": 0.252616,
     "end_time": "2021-09-05T02:47:14.723162",
     "exception": false,
     "start_time": "2021-09-05T02:47:14.470546",
     "status": "completed"
    },
    "tags": []
   },
   "outputs": [
    {
     "data": {
      "text/plain": [
       "(array([  12.,  161.,  643., 1842., 2836., 2600., 1368.,  444.,   82.,\n",
       "          12.]),\n",
       " array([-0.17676055, -0.15928552, -0.14181048, -0.12433545, -0.10686042,\n",
       "        -0.08938539, -0.07191036, -0.05443533, -0.0369603 , -0.01948527,\n",
       "        -0.00201023]),\n",
       " <BarContainer object of 10 artists>)"
      ]
     },
     "execution_count": 15,
     "metadata": {},
     "output_type": "execute_result"
    },
    {
     "data": {
      "image/png": "[encoded data removed]",
      "text/plain": [
       "<Figure size 432x288 with 1 Axes>"
      ]
     },
     "metadata": {},
     "output_type": "display_data"
    }
   ],
   "source": [
    "diffs = np.array(diffs)\n",
    "plt.hist(diffs)"
   ]
  },
  {
   "cell_type": "code",
   "execution_count": 16,
   "id": "2052ed22",
   "metadata": {
    "execution": {
     "iopub.execute_input": "2021-09-05T02:47:14.760227Z",
     "iopub.status.busy": "2021-09-05T02:47:14.759648Z",
     "iopub.status.idle": "2021-09-05T02:47:14.986928Z",
     "shell.execute_reply": "2021-09-05T02:47:14.986366Z",
     "shell.execute_reply.started": "2021-09-05T02:44:25.288080Z"
    },
    "papermill": {
     "duration": 0.247657,
     "end_time": "2021-09-05T02:47:14.987059",
     "exception": false,
     "start_time": "2021-09-05T02:47:14.739402",
     "status": "completed"
    },
    "tags": []
   },
   "outputs": [
    {
     "data": {
      "text/plain": [
       "<matplotlib.lines.Line2D at 0x7f906b55af10>"
      ]
     },
     "execution_count": 16,
     "metadata": {},
     "output_type": "execute_result"
    },
    {
     "data": {
      "image/png": "[encoded data removed]",
      "text/plain": [
       "<Figure size 432x288 with 1 Axes>"
      ]
     },
     "metadata": {},
     "output_type": "display_data"
    }
   ],
   "source": [
    "null_vals = np.random.normal(0,diffs.std(),diffs.size)\n",
    "plt.hist(null_vals)\n",
    "plt.axvline(obs_diff,color='red')"
   ]
  },
  {
   "cell_type": "markdown",
   "id": "3949e8c0",
   "metadata": {
    "papermill": {
     "duration": 0.016989,
     "end_time": "2021-09-05T02:47:15.021490",
     "exception": false,
     "start_time": "2021-09-05T02:47:15.004501",
     "status": "completed"
    },
    "tags": []
   },
   "source": [
    "#### So we reject the null\n",
    "#### The No-show = 1 percent for patients who didn't receive a SMS < the No-show = 1 percent for patients who did receive a SMS\n",
    "#### So it seems that sending SMSs make patients not to attend the appointment , this is logically unacceptable , so we might be in a need to fix our strategy for sending SMSs ( sending to people who , receiving SMSs to them will increase their attendance )"
   ]
  },
  {
   "cell_type": "markdown",
   "id": "3b382737",
   "metadata": {
    "papermill": {
     "duration": 0.017256,
     "end_time": "2021-09-05T02:47:15.056255",
     "exception": false,
     "start_time": "2021-09-05T02:47:15.038999",
     "status": "completed"
    },
    "tags": []
   },
   "source": [
    "## Note that we can apply the same idea for every feature , this notebook is for SMS_received only\n",
    "## You can also check my deep analysis and visualizations for a better understanding of the data , [here](http://www.kaggle.com/mohamedelbeih/no-show-deep-analysis)"
   ]
  }
 ],
 "metadata": {
  "kernelspec": {
   "display_name": "Python 3",
   "language": "python",
   "name": "python3"
  },
  "language_info": {
   "codemirror_mode": {
    "name": "ipython",
    "version": 3
   },
   "file_extension": ".py",
   "mimetype": "text/x-python",
   "name": "python",
   "nbconvert_exporter": "python",
   "pygments_lexer": "ipython3",
   "version": "3.7.10"
  },
  "papermill": {
   "default_parameters": {},
   "duration": 41.725598,
   "end_time": "2021-09-05T02:47:16.519249",
   "environment_variables": {},
   "exception": null,
   "input_path": "__notebook__.ipynb",
   "output_path": "__notebook__.ipynb",
   "parameters": {},
   "start_time": "2021-09-05T02:46:34.793651",
   "version": "2.3.3"
  }
 },
 "nbformat": 4,
 "nbformat_minor": 5
}
